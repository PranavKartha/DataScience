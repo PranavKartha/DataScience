{
 "cells": [
  {
   "cell_type": "markdown",
   "metadata": {},
   "source": [
    "Pranav Kartha\n",
    "8/4/2020\n",
    "PS7"
   ]
  },
  {
   "cell_type": "code",
   "execution_count": 22,
   "metadata": {},
   "outputs": [],
   "source": [
    "import pandas as pd\n",
    "import numpy as np\n",
    "import matplotlib.pyplot as plt\n",
    "import statsmodels.api as sm\n",
    "import statsmodels.formula.api as smf"
   ]
  },
  {
   "cell_type": "markdown",
   "metadata": {},
   "source": [
    "# 1. Predict AirBNB Price\n",
    "\n",
    "1.  Cleaning up the data in the listings dataset is done as follow:"
   ]
  },
  {
   "cell_type": "code",
   "execution_count": 23,
   "metadata": {},
   "outputs": [],
   "source": [
    "listings = pd.read_csv(\"airbnb-beijing-listings.csv.bz2\", usecols = [\"price\", \"bedrooms\", \"bathrooms\", \"accommodates\", \"room_type\", \"host_is_superhost\"] )\n",
    "listings.price = listings.price.str[1:] #removes the $ sign from the price\n",
    "listings = listings[(listings['host_is_superhost'].isin([\"t\",\"f\"]))]#cleans up entries that aren't T or F \n",
    "prices = listings.price\n",
    "pricenum = pd.to_numeric(prices.str.replace(',',''), errors='coerce')#Remove commas from string and convert to numeric\n",
    "listings.price = pricenum\n",
    "listings = listings[~(listings['price'] <= 0)] \n",
    "bedroomcats = []\n",
    "for i in listings.bedrooms:\n",
    "    if i == 1:\n",
    "        bedroomcats.append(\"1\")\n",
    "    elif i == 2:\n",
    "        bedroomcats.append(\"2\")\n",
    "    elif i == 3:\n",
    "        bedroomcats.append(\"3\")\n",
    "    else:\n",
    "        bedroomcats.append(\"4+\")\n",
    "listings[\"bedroom_cat\"] = bedroomcats\n",
    "listings[\"logprice\"] = np.log(listings.price)\n",
    "accomcats = []\n",
    "for i in listings.accommodates:\n",
    "    if i == 1:\n",
    "        accomcats.append(\"1\")\n",
    "    elif i == 2:\n",
    "        accomcats.append(\"2\")\n",
    "    elif i == 3:\n",
    "        accomcats.append(\"3\")\n",
    "    else:\n",
    "        accomcats.append(\"4+\")\n",
    "listings[\"acoom_cat\"] = accomcats\n",
    "\n",
    "\n",
    "bathcats = []\n",
    "for i in listings.bathrooms:\n",
    "    if i < 0.5:\n",
    "        bathcats.append(\"0\")\n",
    "    elif i < 1.5:\n",
    "        bathcats.append(\"1\")\n",
    "    elif i < 2.5:\n",
    "        bathcats.append(\"2\")\n",
    "    else:\n",
    "        bathcats.append(\"3+\")\n",
    "listings[\"bath_cat\"] = bathcats\n",
    "\n",
    "listings = listings.dropna()"
   ]
  },
  {
   "cell_type": "markdown",
   "metadata": {},
   "source": [
    "2. The best model was the one created in section 2.6 of ps6, with includes number of bedrooms, accomodations, bathrooms, and room type , which contained the largest $R^2$ value."
   ]
  },
  {
   "cell_type": "code",
   "execution_count": 24,
   "metadata": {},
   "outputs": [
    {
     "name": "stdout",
     "output_type": "stream",
     "text": [
      "                            OLS Regression Results                            \n",
      "==============================================================================\n",
      "Dep. Variable:               logprice   R-squared:                       0.453\n",
      "Model:                            OLS   Adj. R-squared:                  0.453\n",
      "Method:                 Least Squares   F-statistic:                     2904.\n",
      "Date:                Sun, 09 Aug 2020   Prob (F-statistic):               0.00\n",
      "Time:                        05:02:24   Log-Likelihood:                -35815.\n",
      "No. Observations:               38614   AIC:                         7.165e+04\n",
      "Df Residuals:                   38602   BIC:                         7.176e+04\n",
      "Df Model:                          11                                         \n",
      "Covariance Type:            nonrobust                                         \n",
      "================================================================================================\n",
      "                                   coef    std err          t      P>|t|      [0.025      0.975]\n",
      "------------------------------------------------------------------------------------------------\n",
      "Intercept                        5.6272      0.049    115.266      0.000       5.531       5.723\n",
      "C(bedroom_cat)[T.2]              0.1090      0.011      9.909      0.000       0.087       0.131\n",
      "C(bedroom_cat)[T.3]              0.3939      0.015     25.860      0.000       0.364       0.424\n",
      "C(bedroom_cat)[T.4+]             0.6626      0.017     38.070      0.000       0.629       0.697\n",
      "C(acoom_cat)[T.2]                0.3327      0.014     24.556      0.000       0.306       0.359\n",
      "C(acoom_cat)[T.3]                0.3967      0.017     23.717      0.000       0.364       0.429\n",
      "C(acoom_cat)[T.4+]               0.6407      0.015     41.421      0.000       0.610       0.671\n",
      "C(bath_cat)[T.1]                 0.0002      0.047      0.003      0.997      -0.093       0.093\n",
      "C(bath_cat)[T.2]                 0.0440      0.048      0.923      0.356      -0.049       0.138\n",
      "C(bath_cat)[T.3+]                0.6819      0.050     13.707      0.000       0.584       0.779\n",
      "C(room_type)[T.Private room]    -0.3222      0.007    -43.370      0.000      -0.337      -0.308\n",
      "C(room_type)[T.Shared room]     -0.9598      0.017    -56.683      0.000      -0.993      -0.927\n",
      "==============================================================================\n",
      "Omnibus:                     8739.554   Durbin-Watson:                   1.781\n",
      "Prob(Omnibus):                  0.000   Jarque-Bera (JB):            48782.837\n",
      "Skew:                           0.977   Prob(JB):                         0.00\n",
      "Kurtosis:                       8.148   Cond. No.                         44.7\n",
      "==============================================================================\n",
      "\n",
      "Warnings:\n",
      "[1] Standard Errors assume that the covariance matrix of the errors is correctly specified.\n"
     ]
    }
   ],
   "source": [
    "reg_all = smf.ols(formula = \"logprice ~ C(bedroom_cat) + C(acoom_cat) + C(bath_cat) + C(room_type)\", data = listings).fit()\n",
    "print(reg_all.summary())"
   ]
  },
  {
   "cell_type": "markdown",
   "metadata": {},
   "source": [
    "3."
   ]
  },
  {
   "cell_type": "code",
   "execution_count": 25,
   "metadata": {},
   "outputs": [],
   "source": [
    "pred = reg_all.predict(listings)"
   ]
  },
  {
   "cell_type": "code",
   "execution_count": 26,
   "metadata": {},
   "outputs": [
    {
     "name": "stdout",
     "output_type": "stream",
     "text": [
      "4.\n",
      "The RMSE of this prediction is 0.6117486009256589\n"
     ]
    }
   ],
   "source": [
    "\n",
    "\n",
    "print(\"4.\")\n",
    "\n",
    "rmse = np.sqrt(np.mean((pred-listings.logprice)**2))\n",
    "print(\"The RMSE of this prediction is \" + str(rmse))"
   ]
  },
  {
   "cell_type": "code",
   "execution_count": 27,
   "metadata": {},
   "outputs": [
    {
     "name": "stdout",
     "output_type": "stream",
     "text": [
      "5.  The log price of a 2 bed, 1 bath apartment that accomodates 4 is 0    6.376972\n",
      "dtype: float64\n"
     ]
    }
   ],
   "source": [
    "x1 = {\"bedroom_cat\":'2', \"bath_cat\": '1',\"acoom_cat\": '4+', \"room_type\":'Entire home/apt'}\n",
    "print(\"5.  The log price of a 2 bed, 1 bath apartment that accomodates 4 is \" + str(reg_all.predict(x1)))"
   ]
  },
  {
   "cell_type": "markdown",
   "metadata": {},
   "source": [
    "5. The log price of a 2 bed, 1 bath apartment that accomodates 4 is 6.3759.\n",
    "\n",
    "# 2 Religiousness and Attitude towards women.\n",
    "\n",
    "1."
   ]
  },
  {
   "cell_type": "code",
   "execution_count": 28,
   "metadata": {},
   "outputs": [
    {
     "name": "stdout",
     "output_type": "stream",
     "text": [
      "2.\n",
      "There are 450366 entries in the dataset.\n",
      "There are 1300 null entries in the dataset.\n",
      "There are 442566 entries in this dataset after cleaning the data.\n",
      "There are 0 entries in this dataset after cleaning the data.\n"
     ]
    }
   ],
   "source": [
    "survey = pd.read_csv(\"wvs-logit.csv.bz2\" , sep = \"\\t\")\n",
    "\n",
    "print(\"2.\")\n",
    "\n",
    "\n",
    "lsize = survey.size\n",
    "lnull = survey.isnull().sum().sum()\n",
    "\n",
    "print(\"There are \" + str(lsize) + \" entries in the dataset.\")\n",
    "print(\"There are \" + str(lnull) + \" null entries in the dataset.\")  \n",
    "\n",
    "survey = survey.dropna()\n",
    "survey = survey[~(survey['believeInGod'] <= 0)] \n",
    "survey = survey[~(survey['age'] <= 0)] \n",
    "survey = survey[~(survey['womanJob'] <= 0)]\n",
    "survey = survey[~(survey['environmentImportant'] <= 0)]\n",
    "survey.head()\n",
    "\n",
    "\n",
    "print(\"There are \"+ str(survey.size) + \" entries in this dataset after cleaning the data.\")\n",
    "print(\"There are \"+ str(survey.isnull().sum().sum()) + \" entries in this dataset after cleaning the data.\")"
   ]
  },
  {
   "cell_type": "markdown",
   "metadata": {},
   "source": [
    "3."
   ]
  },
  {
   "cell_type": "code",
   "execution_count": 29,
   "metadata": {},
   "outputs": [],
   "source": [
    "believeInGodNew = []\n",
    "for i in survey[\"believeInGod\"]:\n",
    "    if i == 1:\n",
    "        believeInGodNew.append(1)\n",
    "    if i == 2:\n",
    "        believeInGodNew.append(0)\n",
    "survey[\"believeInGod\"] = believeInGodNew\n",
    "\n",
    "\n"
   ]
  },
  {
   "cell_type": "code",
   "execution_count": 30,
   "metadata": {},
   "outputs": [],
   "source": [
    "environmentnew = []\n",
    "\n",
    "for i in survey[\"environmentImportant\"]:\n",
    "    if i == 6:\n",
    "        environmentnew.append(0)\n",
    "    if i == 5:\n",
    "        environmentnew.append(1)\n",
    "    if i == 4:\n",
    "        environmentnew.append(2)    \n",
    "    if i == 3:\n",
    "        environmentnew.append(3)   \n",
    "    if i == 2:\n",
    "        environmentnew.append(4) \n",
    "    if i == 1:\n",
    "        environmentnew.append(5)     \n",
    "\n",
    "        \n",
    "        \n",
    "survey[\"environmentImportant\"] = environmentnew\n",
    "\n"
   ]
  },
  {
   "cell_type": "code",
   "execution_count": 31,
   "metadata": {
    "scrolled": true
   },
   "outputs": [],
   "source": [
    "womannew = []\n",
    "\n",
    "\n",
    "\n",
    "for i in survey[\"womanJob\"]:\n",
    "    if i == 3:\n",
    "        womannew.append(0)\n",
    "    if i == 2:\n",
    "        womannew.append(1)\n",
    "    if i == 1:\n",
    "        womannew.append(2)    \n",
    " \n",
    "        \n",
    "        \n",
    "survey[\"womanJob\"] = womannew\n",
    "\n"
   ]
  },
  {
   "cell_type": "markdown",
   "metadata": {},
   "source": [
    "4.The variable believeInGod is defined in the readme as a simple yes or no question, if the one taking the survey does or does not believe in God.  This could be described in more detail, such as asking the number of times a week/month one attends a religious community, or if one thinks religion outweighs science, because simply believing in a god does not tell us anything about the strength/commitment of someone to that belief.\n",
    "\n",
    "5. Similarly to the question above, a simple yes or no question about whether agrees with the fact that having a job is the best way to be independent could be expanded to provide more information.  The survey could ask follow up questions such as \"should a wife make more than her husband?\" or \"should a woman give up her job for her family/children?\" to provide further insight on how a survey taker views the independence of women.\n",
    "\n",
    "6."
   ]
  },
  {
   "cell_type": "code",
   "execution_count": 32,
   "metadata": {},
   "outputs": [
    {
     "name": "stdout",
     "output_type": "stream",
     "text": [
      "Optimization terminated successfully.\n",
      "         Current function value: 0.414840\n",
      "         Iterations 6\n",
      "        Logit Marginal Effects       \n",
      "=====================================\n",
      "Dep. Variable:           believeInGod\n",
      "Method:                          dydx\n",
      "At:                              mean\n",
      "====================================================================================\n",
      "                      dy/dx    std err          z      P>|z|      [0.025      0.975]\n",
      "------------------------------------------------------------------------------------\n",
      "C(womanJob)[T.1]    -0.0226      0.004     -5.639      0.000      -0.031      -0.015\n",
      "C(womanJob)[T.2]    -0.0079      0.004     -2.247      0.025      -0.015      -0.001\n",
      "====================================================================================\n",
      "The coefficients show that those who believe that having a job is the best way for a woman to be independent generally are less religious than those who don't.  However, this does not seem to be impacted by the degree by which people hold this beleive at people with a score of 1 have a higher value coefficient than those with the score of 2. Both these values are statistically significant, with the highest P>|z| value being 0.025.\n"
     ]
    }
   ],
   "source": [
    "godwomanreg = smf.logit(formula = \"believeInGod ~ C(womanJob)\", data = survey).fit()\n",
    "print(godwomanreg.get_margeff(at = \"mean\").summary())\n",
    "print(\"The coefficients show that those who believe that having a job is the best way for a woman to be independent generally are less religious than those who don't.  However, this does not seem to be impacted by the degree by which people hold this beleive at people with a score of 1 have a higher value coefficient than those with the score of 2. Both these values are statistically significant, with the highest P>|z| value being 0.025.\" )"
   ]
  },
  {
   "cell_type": "markdown",
   "metadata": {},
   "source": [
    "7."
   ]
  },
  {
   "cell_type": "code",
   "execution_count": 33,
   "metadata": {
    "scrolled": true
   },
   "outputs": [
    {
     "name": "stdout",
     "output_type": "stream",
     "text": [
      "Optimization terminated successfully.\n",
      "         Current function value: 0.412525\n",
      "         Iterations 6\n",
      "        Logit Marginal Effects       \n",
      "=====================================\n",
      "Dep. Variable:           believeInGod\n",
      "Method:                          dydx\n",
      "At:                              mean\n",
      "====================================================================================\n",
      "                      dy/dx    std err          z      P>|z|      [0.025      0.975]\n",
      "------------------------------------------------------------------------------------\n",
      "C(womanJob)[T.1]    -0.0211      0.004     -5.300      0.000      -0.029      -0.013\n",
      "C(womanJob)[T.2]    -0.0051      0.004     -1.442      0.149      -0.012       0.002\n",
      "age                 -0.0014   7.57e-05    -18.750      0.000      -0.002      -0.001\n",
      "====================================================================================\n"
     ]
    }
   ],
   "source": [
    "godwomanagereg = smf.logit(formula = \"believeInGod ~ C(womanJob) + age\", data = survey).fit()\n",
    "print(godwomanagereg.get_margeff(at = \"mean\").summary())"
   ]
  },
  {
   "cell_type": "markdown",
   "metadata": {},
   "source": [
    "Since the coeffiecient for age is negative -0.0014, this means that in general, older people are less religious.\n",
    "\n",
    "8. "
   ]
  },
  {
   "cell_type": "code",
   "execution_count": 34,
   "metadata": {},
   "outputs": [
    {
     "name": "stdout",
     "output_type": "stream",
     "text": [
      "Optimization terminated successfully.\n",
      "         Current function value: 0.366769\n",
      "         Iterations 9\n",
      "        Logit Marginal Effects       \n",
      "=====================================\n",
      "Dep. Variable:           believeInGod\n",
      "Method:                          dydx\n",
      "At:                              mean\n",
      "================================================================================================\n",
      "                                  dy/dx    std err          z      P>|z|      [0.025      0.975]\n",
      "------------------------------------------------------------------------------------------------\n",
      "C(womanJob)[T.1]                 0.0006      0.003      0.213      0.831      -0.005       0.006\n",
      "C(womanJob)[T.2]                 0.0035      0.003      1.388      0.165      -0.001       0.008\n",
      "C(environmentImportant)[T.1]    -0.0055      0.007     -0.838      0.402      -0.018       0.007\n",
      "C(environmentImportant)[T.2]    -0.0095      0.006     -1.565      0.118      -0.021       0.002\n",
      "C(environmentImportant)[T.3]     0.0126      0.006      2.130      0.033       0.001       0.024\n",
      "C(environmentImportant)[T.4]     0.0255      0.006      4.313      0.000       0.014       0.037\n",
      "C(environmentImportant)[T.5]     0.0615      0.006     10.073      0.000       0.050       0.073\n",
      "C(education)[T.2]               -0.0122      0.008     -1.497      0.134      -0.028       0.004\n",
      "C(education)[T.3]               -0.0868      0.007    -13.223      0.000      -0.100      -0.074\n",
      "C(education)[T.4]               -0.0374      0.007     -5.217      0.000      -0.051      -0.023\n",
      "C(education)[T.5]               -0.0730      0.006    -11.456      0.000      -0.085      -0.060\n",
      "C(education)[T.6]               -0.0533      0.007     -7.571      0.000      -0.067      -0.040\n",
      "C(education)[T.7]               -0.0733      0.006    -11.404      0.000      -0.086      -0.061\n",
      "C(education)[T.8]               -0.0858      0.007    -12.480      0.000      -0.099      -0.072\n",
      "C(education)[T.9]               -0.0876      0.006    -13.745      0.000      -0.100      -0.075\n",
      "C(continent)[T.Americas]        -0.1581      0.007    -22.694      0.000      -0.172      -0.144\n",
      "C(continent)[T.Asia]            -0.2625      0.005    -49.768      0.000      -0.273      -0.252\n",
      "C(continent)[T.Europe]          -0.2855      0.005    -55.612      0.000      -0.296      -0.275\n",
      "age                             -0.0005   5.72e-05     -8.999      0.000      -0.001      -0.000\n",
      "================================================================================================\n"
     ]
    }
   ],
   "source": [
    "allreg = smf.logit(formula = \"believeInGod ~ C(womanJob) + age + C(environmentImportant) + C(education) + C(continent)\", data = survey).fit()\n",
    "print(allreg.get_margeff(at = \"mean\").summary())"
   ]
  },
  {
   "cell_type": "markdown",
   "metadata": {},
   "source": [
    "a.  womanJob has the highest P>|z| score amongst all of the variables considered in this regression, meaning there is the greatest probability that this relationships is due to chance.  The impreciseness and vague nature of this question could be a factor in this measure having less conclusive results than the others.\n",
    "\n",
    "\n",
    "b. Generally, people who value the environment more are more religious than those who don't.  The difference between the coefficiant of a 1 ranking vs a 5 ranking in the variable environmentImportant was 0.067.\n",
    "\n",
    "\n",
    "c.  There doesn't appear to be any relation between education and religiosity.  As the value for education increases, the coefficients did not seem to follow any trend, so one cannot conclude anything from this data.  However, all the coefficents in the model were negative, suggesting that on the whole, educated people are less religious than those who aren't religious. In addition, people with a university education had the most negative coefficient.\n",
    "\n",
    "d.  On average, Americans are the most religious, while Europeans are the least religious.\n",
    "\n",
    "9."
   ]
  },
  {
   "cell_type": "code",
   "execution_count": 35,
   "metadata": {},
   "outputs": [
    {
     "name": "stdout",
     "output_type": "stream",
     "text": [
      "10. The accuracy of this data set is 0.8543539268719242\n"
     ]
    }
   ],
   "source": [
    "religionpred = allreg.predict(survey)\n",
    "\n",
    "\n",
    "yhat = religionpred > 0.5\n",
    "accuracy = np.mean(yhat == survey.believeInGod)\n",
    "\n",
    "print(\"10. The accuracy of this data set is \" + str(accuracy))\n"
   ]
  },
  {
   "cell_type": "markdown",
   "metadata": {},
   "source": [
    "# 3 Extra Credit\n",
    "\n",
    "1/2"
   ]
  },
  {
   "cell_type": "code",
   "execution_count": 36,
   "metadata": {},
   "outputs": [
    {
     "data": {
      "image/png": "[encoded data removed]",
      "text/plain": [
       "<Figure size 432x288 with 1 Axes>"
      ]
     },
     "metadata": {
      "needs_background": "light"
     },
     "output_type": "display_data"
    }
   ],
   "source": [
    "crazy = pd.read_csv(\"crazy-hat.tsv\" , sep = \"\\t\")\n",
    "crazy.head()\n",
    "\n",
    "ax = plt.subplot(1,1,1)\n",
    "for g in crazy.group:\n",
    "    Xg = crazy[crazy.group == g]\n",
    "        # just plot multiple lines on the same canvas \n",
    "    ax.plot(Xg.iloc[:,0], Xg.iloc[:,1], marker='o', c=\"k\")\n",
    "    ax.set_aspect(\"equal\")\n"
   ]
  },
  {
   "cell_type": "code",
   "execution_count": 37,
   "metadata": {},
   "outputs": [
    {
     "name": "stdout",
     "output_type": "stream",
     "text": [
      "2.\n",
      "3.\n"
     ]
    },
    {
     "data": {
      "image/png": "[encoded data removed]",
      "text/plain": [
       "<Figure size 432x288 with 1 Axes>"
      ]
     },
     "metadata": {
      "needs_background": "light"
     },
     "output_type": "display_data"
    }
   ],
   "source": [
    "print(\"2.\")\n",
    "def makerotationmatrix(angle):\n",
    "    return np.array([[np.cos(angle),-1 * np.sin(angle)], [np.sin(angle), np.cos(angle)]])\n",
    "\n",
    "\n",
    "\n",
    "\n",
    "print(\"3.\")\n",
    "\n",
    "\n",
    "def degrees_to_radians(angle):\n",
    "    return  np.pi * angle/180\n",
    "\n",
    "def plot_figure(m, angle):\n",
    "    ax = plt.subplot(1,1,1)\n",
    "    for g in m.group:\n",
    "        Xg = m[m.group == g]\n",
    "        xgvertex = Xg[[\"x\", \"y\"]]\n",
    "        product = xgvertex @ makerotationmatrix(angle)\n",
    "        ax.plot(product.iloc[:,0], product.iloc[:,1], marker='o', c=\"k\")\n",
    "        ax.set_aspect(\"equal\")\n",
    "        \n",
    "        \n",
    "        \n",
    "plot_figure(crazy, degrees_to_radians(15))\n",
    "\n"
   ]
  },
  {
   "cell_type": "code",
   "execution_count": 38,
   "metadata": {},
   "outputs": [
    {
     "data": {
      "image/png": "[encoded data removed]",
      "text/plain": [
       "<Figure size 432x288 with 1 Axes>"
      ]
     },
     "metadata": {
      "needs_background": "light"
     },
     "output_type": "display_data"
    }
   ],
   "source": [
    "plot_figure(crazy, degrees_to_radians(90))"
   ]
  },
  {
   "cell_type": "code",
   "execution_count": 39,
   "metadata": {},
   "outputs": [
    {
     "data": {
      "image/png": "[encoded data removed]",
      "text/plain": [
       "<Figure size 432x288 with 1 Axes>"
      ]
     },
     "metadata": {
      "needs_background": "light"
     },
     "output_type": "display_data"
    }
   ],
   "source": [
    "plot_figure(crazy, degrees_to_radians(180))"
   ]
  },
  {
   "cell_type": "code",
   "execution_count": 40,
   "metadata": {},
   "outputs": [
    {
     "data": {
      "image/png": "[encoded data removed]",
      "text/plain": [
       "<Figure size 432x288 with 1 Axes>"
      ]
     },
     "metadata": {
      "needs_background": "light"
     },
     "output_type": "display_data"
    }
   ],
   "source": [
    "plot_figure(crazy, degrees_to_radians(270))"
   ]
  }
 ],
 "metadata": {
  "kernelspec": {
   "display_name": "Python 3",
   "language": "python",
   "name": "python3"
  },
  "language_info": {
   "codemirror_mode": {
    "name": "ipython",
    "version": 3
   },
   "file_extension": ".py",
   "mimetype": "text/x-python",
   "name": "python",
   "nbconvert_exporter": "python",
   "pygments_lexer": "ipython3",
   "version": "3.7.6"
  }
 },
 "nbformat": 4,
 "nbformat_minor": 4
}
